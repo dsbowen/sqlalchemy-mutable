{
 "cells": [
  {
   "cell_type": "markdown",
   "metadata": {},
   "source": [
    "# SQLAlchemy-Mutable examples"
   ]
  },
  {
   "cell_type": "markdown",
   "metadata": {},
   "source": [
    "## SQAlchemy setup"
   ]
  },
  {
   "cell_type": "code",
   "execution_count": 1,
   "metadata": {
    "ExecuteTime": {
     "end_time": "2020-10-24T11:38:56.945412Z",
     "start_time": "2020-10-24T11:38:56.767615Z"
    }
   },
   "outputs": [],
   "source": [
    "from sqlalchemy_mutable import Mutable, MutableType, MutableModelBase, Query, partial\n",
    "\n",
    "from sqlalchemy import Column, Integer, String, create_engine \n",
    "from sqlalchemy.orm import sessionmaker, scoped_session\n",
    "from sqlalchemy.ext.declarative import declarative_base\n",
    "\n",
    "from sqlalchemy_mutable import HTMLAttrsType\n",
    "\n",
    "# create a session (standard)\n",
    "engine = create_engine('sqlite:///:memory:')\n",
    "session_factory = sessionmaker(bind=engine)\n",
    "Session = scoped_session(session_factory)\n",
    "session = Session()\n",
    "Base = declarative_base()\n",
    "\n",
    "# subclass `MutableModelBase` when creating database models \n",
    "# which may be stored in a `Mutable` object\n",
    "class MyModel(MutableModelBase, Base):\n",
    "    __tablename__ = 'mymodel'\n",
    "    id = Column(Integer, primary_key=True)\n",
    "    greeting = Column(String)\n",
    "    attrs = Column(HTMLAttrsType)\n",
    "    \n",
    "    # initialize a database column with `MutableType`\n",
    "    mutable = Column(MutableType)\n",
    "    # add a `query` class attribute initialized with a scoped_session\n",
    "    # not necessary for use with Flask-SQLAlchemy\n",
    "    query = Query(Session) \n",
    "    \n",
    "    def __init__(self):\n",
    "        # set mutable column to `Mutable` object\n",
    "        self.mutable = Mutable()\n",
    "\n",
    "# create the database (standard)\n",
    "Base.metadata.create_all(engine)"
   ]
  },
  {
   "cell_type": "code",
   "execution_count": 5,
   "metadata": {
    "ExecuteTime": {
     "end_time": "2020-10-24T11:39:58.591750Z",
     "start_time": "2020-10-24T11:39:58.585527Z"
    }
   },
   "outputs": [
    {
     "name": "stdout",
     "output_type": "stream",
     "text": [
      "mutable manager is <class 'sqlalchemy_mutable.manager.MutableManager'>\n"
     ]
    }
   ],
   "source": [
    "from sqlalchemy_mutable import MutableManager\n",
    "\n",
    "MutableManager.session = session\n",
    "\n",
    "model0 = MyModel()\n",
    "model1 = MyModel()\n",
    "model0.mutable = model1"
   ]
  },
  {
   "cell_type": "code",
   "execution_count": 6,
   "metadata": {
    "ExecuteTime": {
     "end_time": "2020-10-24T11:40:04.975807Z",
     "start_time": "2020-10-24T11:40:04.970762Z"
    }
   },
   "outputs": [
    {
     "data": {
      "text/plain": [
       "<__main__.MyModel at 0x7f2f6056bb00>"
      ]
     },
     "execution_count": 6,
     "metadata": {},
     "output_type": "execute_result"
    }
   ],
   "source": [
    "model0.mutable"
   ]
  },
  {
   "cell_type": "code",
   "execution_count": null,
   "metadata": {
    "ExecuteTime": {
     "end_time": "2020-10-17T15:30:08.078895Z",
     "start_time": "2020-10-17T15:30:08.044839Z"
    }
   },
   "outputs": [],
   "source": [
    "from sqlalchemy_mutable import MutableList\n",
    "\n",
    "from convert_list import ConvertList\n",
    "\n",
    "class HelloList(ConvertList, MutableList):\n",
    "    @classmethod\n",
    "    def convert(cls, item):\n",
    "        return item if item.startswith('hello, ') else 'hello, '+item\n",
    "\n",
    "model = MyModel()\n",
    "model.mutable = HelloList(['world', 'moon'])\n",
    "model.mutable\n",
    "session.add(model)\n",
    "session.commit()\n",
    "print(model.mutable)\n",
    "model.mutable += model.mutable[:2]\n",
    "session.commit()\n",
    "model.mutable"
   ]
  },
  {
   "cell_type": "markdown",
   "metadata": {},
   "source": [
    "## Flask-SQLAlchemy setup"
   ]
  },
  {
   "cell_type": "code",
   "execution_count": null,
   "metadata": {
    "ExecuteTime": {
     "end_time": "2020-10-18T12:19:16.619156Z",
     "start_time": "2020-10-18T12:19:16.603474Z"
    }
   },
   "outputs": [],
   "source": [
    "from sqlalchemy_mutable import Mutable, MutableType, MutableModelBase\n",
    "\n",
    "from flask import Flask\n",
    "from flask_sqlalchemy import SQLAlchemy\n",
    "\n",
    "# create a session (standard)\n",
    "app = Flask(__name__)\n",
    "app.config['SQLALCHEMY_DATABASE_URI'] = 'sqlite:///:memory:'\n",
    "app.config['SQLALCHEMY_TRACK_MODIFICATIONS'] = False\n",
    "db = SQLAlchemy(app)\n",
    "\n",
    "# subclass `MutableModelBase` when creating database models\n",
    "class MyModel(MutableModelBase, db.Model):\n",
    "    id = db.Column(db.Integer, primary_key=True)\n",
    "    greeting = db.Column(db.String)\n",
    "    \n",
    "    # initialize a database column with `MutableType`\n",
    "    mutable = db.Column(MutableType)  \n",
    "    \n",
    "    def __init__(self):\n",
    "        # set mutable column to `Mutable` object\n",
    "        self.mutable = Mutable()\n",
    "\n",
    "# create the database (standard)\n",
    "db.create_all()\n",
    "session = db.session"
   ]
  },
  {
   "cell_type": "markdown",
   "metadata": {},
   "source": [
    "## Index page examples"
   ]
  },
  {
   "cell_type": "code",
   "execution_count": null,
   "metadata": {
    "ExecuteTime": {
     "end_time": "2020-10-16T17:35:44.026191Z",
     "start_time": "2020-10-16T17:35:43.973343Z"
    }
   },
   "outputs": [],
   "source": [
    "model = MyModel()\n",
    "session.add(model)\n",
    "session.commit()\n",
    "\n",
    "# nested mutable objects\n",
    "model.mutable.nested_mutable = Mutable()\n",
    "session.commit()\n",
    "model.mutable.nested_mutable.greet = 'hello world'\n",
    "session.commit()\n",
    "print(model.mutable.nested_mutable.greet)\n",
    "\n",
    "# nested mutable list and dict\n",
    "model.mutable = {}\n",
    "session.commit()\n",
    "model.mutable['greet'] = ['hello world']\n",
    "session.commit()\n",
    "print(model.mutable)\n",
    "\n",
    "# storing database models\n",
    "model.mutable = model\n",
    "session.commit()\n",
    "print(model.mutable)\n",
    "\n",
    "# common literals\n",
    "model.mutable = 'hello world'\n",
    "session.commit()\n",
    "print(model.mutable)"
   ]
  },
  {
   "cell_type": "markdown",
   "metadata": {},
   "source": [
    "## Basic objects examples"
   ]
  },
  {
   "cell_type": "code",
   "execution_count": null,
   "metadata": {
    "ExecuteTime": {
     "end_time": "2020-10-16T17:35:44.052367Z",
     "start_time": "2020-10-16T17:35:44.029644Z"
    }
   },
   "outputs": [],
   "source": [
    "model = MyModel()\n",
    "session.add(model)\n",
    "model.mutable.nested_mutable = Mutable()\n",
    "session.commit()\n",
    "# if `MyModel.mutable` weren't a `MutableType` column,\n",
    "# this change would not survive a commit\n",
    "model.mutable.nested_mutable.greeting = 'hello, world!'\n",
    "session.commit()\n",
    "model.mutable.nested_mutable.greeting"
   ]
  },
  {
   "cell_type": "code",
   "execution_count": null,
   "metadata": {
    "ExecuteTime": {
     "end_time": "2020-10-16T17:35:44.079801Z",
     "start_time": "2020-10-16T17:35:44.058390Z"
    }
   },
   "outputs": [],
   "source": [
    "class MyClass():\n",
    "    def greet(self, name='world'):\n",
    "        return 'hello, {}!'.format(name)\n",
    "\n",
    "@Mutable.register_coerced_type(MyClass)\n",
    "class CoercedMyClass(Mutable, MyClass):\n",
    "    pass\n",
    "\n",
    "model = MyModel()\n",
    "# without registering an associated coerced type,\n",
    "# this will throw an error\n",
    "model.mutable = MyClass()\n",
    "model.mutable.greet()"
   ]
  },
  {
   "cell_type": "code",
   "execution_count": null,
   "metadata": {
    "ExecuteTime": {
     "end_time": "2020-10-16T17:35:44.122449Z",
     "start_time": "2020-10-16T17:35:44.083292Z"
    }
   },
   "outputs": [],
   "source": [
    "class MyClass():\n",
    "    def __init__(self, name):\n",
    "        self.name = name\n",
    "        \n",
    "    def greet(self):\n",
    "        return 'hello, {}!'.format(self.name)\n",
    "    \n",
    "@Mutable.register_tracked_type(MyClass)\n",
    "class MutableMyClass(MyClass, Mutable):\n",
    "    def __init__(self, source=None, root=None):\n",
    "        '''\n",
    "        Parameters\n",
    "        ----------\n",
    "        source : MyClass\n",
    "            Original instance of `MyClass`. This will be converted into a `MutableMyClass` object.\n",
    "            \n",
    "        root : Mutable or None, default=None\n",
    "            Root mutable object. This is handled by SQLAlchemy-Mutable. Set to `None` by default.\n",
    "        '''\n",
    "        super().__init__(name=source.name)\n",
    "        \n",
    "model = MyModel()\n",
    "session.add(model)\n",
    "model.mutable = Mutable()\n",
    "model.mutable.object = MyClass('world')\n",
    "session.commit()\n",
    "model.mutable.object.name = 'moon'\n",
    "session.commit()\n",
    "model.mutable.object.greet()"
   ]
  },
  {
   "cell_type": "markdown",
   "metadata": {},
   "source": [
    "## Coerced types"
   ]
  },
  {
   "cell_type": "code",
   "execution_count": null,
   "metadata": {
    "ExecuteTime": {
     "end_time": "2020-10-16T17:35:44.144245Z",
     "start_time": "2020-10-16T17:35:44.125518Z"
    }
   },
   "outputs": [],
   "source": [
    "model = MyModel()\n",
    "\n",
    "model.mutable = True\n",
    "print(model.mutable)\n",
    "\n",
    "model.mutable = complex(1,1)\n",
    "print(model.mutable)\n",
    "\n",
    "model.mutable = 1.\n",
    "print(model.mutable)\n",
    "\n",
    "model.mutable = 1\n",
    "print(model.mutable)\n",
    "\n",
    "model.mutable = 'hello world'\n",
    "print(model.mutable)\n",
    "\n",
    "import datetime\n",
    "model.mutable = datetime.datetime.now()\n",
    "print(model.mutable)\n",
    "\n",
    "def foo(*args, **kwargs):\n",
    "    print('args', args)\n",
    "    print('kwargs', kwargs)\n",
    "    return 0\n",
    "\n",
    "model.mutable = foo\n",
    "print(model.mutable('hello world', goodbye='moon'))"
   ]
  },
  {
   "cell_type": "markdown",
   "metadata": {},
   "source": [
    "## Storing models (model shell)"
   ]
  },
  {
   "cell_type": "code",
   "execution_count": null,
   "metadata": {
    "ExecuteTime": {
     "end_time": "2020-10-16T17:35:44.167281Z",
     "start_time": "2020-10-16T17:35:44.150031Z"
    }
   },
   "outputs": [],
   "source": [
    "model0 = MyModel()\n",
    "model1 = MyModel()\n",
    "session.add_all([model0, model1])\n",
    "session.commit()\n",
    "model0.mutable = model1\n",
    "# without subclassing MutableModelBase,\n",
    "# this would not retrieve `model1`\n",
    "model0.mutable"
   ]
  },
  {
   "cell_type": "code",
   "execution_count": null,
   "metadata": {
    "ExecuteTime": {
     "end_time": "2020-10-16T17:35:44.218702Z",
     "start_time": "2020-10-16T17:35:44.170280Z"
    }
   },
   "outputs": [],
   "source": [
    "from sqlalchemy_mutable.model_shell import ModelShell\n",
    "\n",
    "model = MyModel()\n",
    "session.add(model)\n",
    "session.commit()\n",
    "shell = ModelShell(model)\n",
    "shell == model"
   ]
  },
  {
   "cell_type": "code",
   "execution_count": null,
   "metadata": {
    "ExecuteTime": {
     "end_time": "2020-10-16T17:35:44.240896Z",
     "start_time": "2020-10-16T17:35:44.222548Z"
    }
   },
   "outputs": [],
   "source": [
    "model = MyModel()\n",
    "session.add(model)\n",
    "session.commit()\n",
    "model.mutable = {}\n",
    "model.mutable['model'] = model\n",
    "model.mutable.unshell()"
   ]
  },
  {
   "cell_type": "markdown",
   "metadata": {},
   "source": [
    "## Mutable list and dict"
   ]
  },
  {
   "cell_type": "code",
   "execution_count": null,
   "metadata": {
    "ExecuteTime": {
     "end_time": "2020-10-16T17:35:44.264838Z",
     "start_time": "2020-10-16T17:35:44.243617Z"
    }
   },
   "outputs": [],
   "source": [
    "model = MyModel()\n",
    "model.mutable = []\n",
    "session.add(model)\n",
    "session.commit()\n",
    "# without a mutable list,\n",
    "# this change will not survive a commit\n",
    "model.mutable.append('hello world')\n",
    "session.commit()\n",
    "model.mutable"
   ]
  },
  {
   "cell_type": "code",
   "execution_count": null,
   "metadata": {
    "ExecuteTime": {
     "end_time": "2020-10-16T17:35:44.296428Z",
     "start_time": "2020-10-16T17:35:44.266973Z"
    }
   },
   "outputs": [],
   "source": [
    "model = MyModel()\n",
    "model.mutable = {}\n",
    "session.add(model)\n",
    "session.commit()\n",
    "# without a mutable dictionary,\n",
    "# this change will not survive a commit\n",
    "model.mutable['hello'] = 'world'\n",
    "session.commit()\n",
    "model.mutable"
   ]
  },
  {
   "cell_type": "markdown",
   "metadata": {},
   "source": [
    "## Type conversion"
   ]
  },
  {
   "cell_type": "code",
   "execution_count": null,
   "metadata": {
    "ExecuteTime": {
     "end_time": "2020-10-16T17:35:44.333989Z",
     "start_time": "2020-10-16T17:35:44.300407Z"
    }
   },
   "outputs": [],
   "source": [
    "@Mutable.register_tracked_type(list) \n",
    "class MutableList(Mutable, list):\n",
    "    def __init__(self, source=[], root=None):\n",
    "        # 1. convert potentially mutable attributes/items to Mutable objects\n",
    "        converted_list = self._convert_iterable(source)\n",
    "        super().__init__(converted_list)\n",
    "    \n",
    "    # 2. classes with mutable items must have a `_tracked_items` attribute\n",
    "    # `_tracked_items` is a list of potentially mutable items\n",
    "    @property\n",
    "    def _tracked_items(self):\n",
    "        return list(self)\n",
    "    \n",
    "    # 3. call `self._changed()` to register change with the root Mutable object\n",
    "    def append(self, item):\n",
    "        self._changed()\n",
    "        super().append(self._convert_item(item))\n",
    "        \n",
    "model = MyModel()\n",
    "model.mutable = []\n",
    "session.add(model)\n",
    "session.commit()\n",
    "# without using a mutable list, this change would not survive a commit\n",
    "model.mutable.append('hello world')\n",
    "session.commit()\n",
    "model.mutable"
   ]
  },
  {
   "cell_type": "code",
   "execution_count": null,
   "metadata": {},
   "outputs": [],
   "source": []
  }
 ],
 "metadata": {
  "kernelspec": {
   "display_name": "Python 3",
   "language": "python",
   "name": "python3"
  },
  "language_info": {
   "codemirror_mode": {
    "name": "ipython",
    "version": 3
   },
   "file_extension": ".py",
   "mimetype": "text/x-python",
   "name": "python",
   "nbconvert_exporter": "python",
   "pygments_lexer": "ipython3",
   "version": "3.6.8"
  },
  "toc": {
   "base_numbering": 1,
   "nav_menu": {},
   "number_sections": true,
   "sideBar": true,
   "skip_h1_title": false,
   "title_cell": "Table of Contents",
   "title_sidebar": "Contents",
   "toc_cell": false,
   "toc_position": {},
   "toc_section_display": true,
   "toc_window_display": false
  },
  "varInspector": {
   "cols": {
    "lenName": 16,
    "lenType": 16,
    "lenVar": 40
   },
   "kernels_config": {
    "python": {
     "delete_cmd_postfix": "",
     "delete_cmd_prefix": "del ",
     "library": "var_list.py",
     "varRefreshCmd": "print(var_dic_list())"
    },
    "r": {
     "delete_cmd_postfix": ") ",
     "delete_cmd_prefix": "rm(",
     "library": "var_list.r",
     "varRefreshCmd": "cat(var_dic_list()) "
    }
   },
   "types_to_exclude": [
    "module",
    "function",
    "builtin_function_or_method",
    "instance",
    "_Feature"
   ],
   "window_display": false
  }
 },
 "nbformat": 4,
 "nbformat_minor": 4
}
