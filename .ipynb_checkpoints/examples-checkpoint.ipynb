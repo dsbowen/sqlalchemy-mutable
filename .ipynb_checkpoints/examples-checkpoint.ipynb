{
 "cells": [
  {
   "cell_type": "markdown",
   "metadata": {},
   "source": [
    "## Setup"
   ]
  },
  {
   "cell_type": "code",
   "execution_count": 3,
   "metadata": {
    "ExecuteTime": {
     "end_time": "2020-06-09T20:42:41.749743Z",
     "start_time": "2020-06-09T20:42:41.732864Z"
    }
   },
   "outputs": [],
   "source": [
    "from sqlalchemy_mutable import Mutable, MutableType, MutableModelBase, Query\n",
    "\n",
    "from sqlalchemy import Column, Integer, String, PickleType, create_engine \n",
    "from sqlalchemy.orm import sessionmaker, scoped_session\n",
    "from sqlalchemy.ext.declarative import declarative_base\n",
    "\n",
    "# create a session (standard)\n",
    "engine = create_engine('sqlite:///:memory:')\n",
    "session_factory = sessionmaker(bind=engine)\n",
    "Session = scoped_session(session_factory)\n",
    "session = Session()\n",
    "Base = declarative_base()\n",
    "\n",
    "# subclass `MutableModelBase` when creating database models \n",
    "# which may be stored in a `Mutable` object\n",
    "class MyModel(MutableModelBase, Base):\n",
    "    __tablename__ = 'mymodel'\n",
    "    id = Column(Integer, primary_key=True)\n",
    "    greeting = Column(String)\n",
    "    \n",
    "    # initialize a database column with `MutableType`\n",
    "    mutable = Column(MutableType)\n",
    "    # add a `query` class attribute initialized with a scoped_session\n",
    "    # not necessary for use with Flask-SQLAlchemy\n",
    "    query = Query(Session) \n",
    "    \n",
    "    def __init__(self):\n",
    "        # set mutable column to `Mutable` object\n",
    "        self.mutable = Mutable()\n",
    "\n",
    "# create the database (standard)\n",
    "Base.metadata.create_all(engine)"
   ]
  },
  {
   "cell_type": "code",
   "execution_count": 9,
   "metadata": {
    "ExecuteTime": {
     "end_time": "2020-06-09T20:51:45.425833Z",
     "start_time": "2020-06-09T20:51:45.400861Z"
    }
   },
   "outputs": [
    {
     "name": "stdout",
     "output_type": "stream",
     "text": [
      "hello world\n",
      "{'greet': ['hello world']}\n",
      "<__main__.MyModel object at 0x7fe54a335ef0>\n",
      "hello world\n",
      "None\n"
     ]
    }
   ],
   "source": [
    "model = MyModel()\n",
    "session.add(model)\n",
    "session.commit()\n",
    "\n",
    "# nested mutable objects\n",
    "model.mutable.nested_mutable = Mutable()\n",
    "session.commit()\n",
    "model.mutable.nested_mutable.greet = 'hello world'\n",
    "session.commit()\n",
    "print(model.mutable.nested_mutable.greet)\n",
    "\n",
    "# nested mutable list and dict\n",
    "model.mutable = {}\n",
    "session.commit()\n",
    "model.mutable['greet'] = ['hello world']\n",
    "session.commit()\n",
    "print(model.mutable)\n",
    "\n",
    "# storing database models\n",
    "model.mutable = model\n",
    "session.commit()\n",
    "print(model.mutable)\n",
    "\n",
    "# common literals\n",
    "model.mutable = 'hello world'\n",
    "session.commit()\n",
    "print(model.mutable)"
   ]
  },
  {
   "cell_type": "code",
   "execution_count": null,
   "metadata": {
    "ExecuteTime": {
     "end_time": "2020-06-09T20:29:55.653659Z",
     "start_time": "2020-06-09T20:29:55.635537Z"
    }
   },
   "outputs": [],
   "source": [
    "@Mutable.register_tracked_type(list) \n",
    "class MutableList(Mutable, list):\n",
    "    def __init__(self, source=[], root=None):\n",
    "        # 1. convert potentially mutable attributes/items to Mutable objects\n",
    "        converted_list = self._convert_iterable(source)\n",
    "        super().__init__(converted_list)\n",
    "    \n",
    "    # 2. classes with mutable items must have a `_tracked_items` attribute\n",
    "    # `_tracked_items` is a list of potentially mutable items\n",
    "    @property\n",
    "    def _tracked_items(self):\n",
    "        return list(self)\n",
    "    \n",
    "    # 3. call `self._changed()` to register change with the root Mutable object\n",
    "    def append(self, item):\n",
    "        self._changed()\n",
    "        super().append(self._convert_item(item))\n",
    "        \n",
    "model = MyModel()\n",
    "model.mutable = []\n",
    "session.add(model)\n",
    "session.commit()\n",
    "# without using a mutable list, this change would not survive a commit\n",
    "model.mutable.append('hello world')\n",
    "session.commit()\n",
    "model.mutable"
   ]
  },
  {
   "cell_type": "code",
   "execution_count": null,
   "metadata": {
    "ExecuteTime": {
     "end_time": "2020-06-09T20:12:23.045035Z",
     "start_time": "2020-06-09T20:12:23.031946Z"
    }
   },
   "outputs": [],
   "source": [
    "model = MyModel()\n",
    "model.mutable = []\n",
    "session.add(model)\n",
    "session.commit()\n",
    "# without a mutable list,\n",
    "# this change will not survive a commit\n",
    "model.mutable.append('hello world')\n",
    "session.commit()\n",
    "model.mutable"
   ]
  },
  {
   "cell_type": "code",
   "execution_count": null,
   "metadata": {
    "ExecuteTime": {
     "end_time": "2020-06-09T19:49:43.414548Z",
     "start_time": "2020-06-09T19:49:43.402242Z"
    }
   },
   "outputs": [],
   "source": [
    "model = MyModel()\n",
    "model.mutable = {}\n",
    "session.add(model)\n",
    "session.commit()\n",
    "# without a mutable dictionary,\n",
    "# this change will not survive a commit\n",
    "model.mutable['hello'] = 'world'\n",
    "session.commit()\n",
    "model.mutable"
   ]
  },
  {
   "cell_type": "code",
   "execution_count": null,
   "metadata": {
    "ExecuteTime": {
     "end_time": "2020-06-09T19:39:01.478762Z",
     "start_time": "2020-06-09T19:39:01.454517Z"
    }
   },
   "outputs": [],
   "source": [
    "model = MyModel()\n",
    "session.add(model)\n",
    "session.commit()\n",
    "model.mutable = {}\n",
    "model.mutable['model'] = model\n",
    "model.mutable.unshell()"
   ]
  },
  {
   "cell_type": "code",
   "execution_count": null,
   "metadata": {
    "ExecuteTime": {
     "end_time": "2020-06-09T17:17:27.306880Z",
     "start_time": "2020-06-09T17:17:27.298572Z"
    }
   },
   "outputs": [],
   "source": [
    "import datetime\n",
    "\n",
    "model = MyModel()\n",
    "model.mutable = complex(1,1)\n",
    "model.mutable = 1.\n",
    "model.mutable = 1\n",
    "model.mutable = 'hello world'\n",
    "# model.mutable = datetime.datetime.now()\n",
    "model.mutable"
   ]
  },
  {
   "cell_type": "code",
   "execution_count": null,
   "metadata": {
    "ExecuteTime": {
     "end_time": "2020-06-09T19:27:57.443536Z",
     "start_time": "2020-06-09T19:27:57.431981Z"
    }
   },
   "outputs": [],
   "source": [
    "from sqlalchemy_mutable.model_shell import ModelShell\n",
    "\n",
    "model = MyModel()\n",
    "session.add(model)\n",
    "session.commit()\n",
    "shell = ModelShell(model)\n",
    "shell == model"
   ]
  },
  {
   "cell_type": "code",
   "execution_count": null,
   "metadata": {
    "ExecuteTime": {
     "end_time": "2020-06-09T16:59:21.752565Z",
     "start_time": "2020-06-09T16:59:21.739908Z"
    }
   },
   "outputs": [],
   "source": [
    "model0 = MyModel()\n",
    "model1 = MyModel()\n",
    "session.add_all([model0, model1])\n",
    "session.commit()\n",
    "model0.mutable = model1\n",
    "# without subclassing MutableModelBase,\n",
    "# this would not retrieve `model1`\n",
    "model0.mutable"
   ]
  },
  {
   "cell_type": "code",
   "execution_count": null,
   "metadata": {
    "ExecuteTime": {
     "end_time": "2020-06-09T13:55:55.989697Z",
     "start_time": "2020-06-09T13:55:55.975217Z"
    }
   },
   "outputs": [],
   "source": [
    "model = MyModel()\n",
    "session.add(model)\n",
    "model.mutable.nested_mutable = Mutable()\n",
    "session.commit()\n",
    "# if `MyModel.mutable` weren't a `MutableType` column,\n",
    "# this change would not survive a commit\n",
    "model.mutable.nested_mutable.greeting = 'hello, world!'\n",
    "session.commit()\n",
    "model.mutable.nested_mutable.greeting"
   ]
  },
  {
   "cell_type": "markdown",
   "metadata": {},
   "source": [
    "## Coerced type registration"
   ]
  },
  {
   "cell_type": "code",
   "execution_count": null,
   "metadata": {
    "ExecuteTime": {
     "end_time": "2020-06-09T13:20:21.461251Z",
     "start_time": "2020-06-09T13:20:21.449582Z"
    }
   },
   "outputs": [],
   "source": [
    "class MyClass():\n",
    "    def greet(self, name='world'):\n",
    "        return 'hello, {}!'.format(name)\n",
    "\n",
    "@Mutable.register_coerced_type(MyClass)\n",
    "class CoercedMyClass(Mutable, MyClass):\n",
    "    pass\n",
    "\n",
    "model = MyModel()\n",
    "# without registering an associated coerced type,\n",
    "# this will throw an error\n",
    "model.mutable = MyClass()\n",
    "model.mutable.greet()"
   ]
  },
  {
   "cell_type": "code",
   "execution_count": null,
   "metadata": {
    "ExecuteTime": {
     "end_time": "2020-06-09T13:21:11.122739Z",
     "start_time": "2020-06-09T13:21:11.103376Z"
    }
   },
   "outputs": [],
   "source": [
    "class MyClass():\n",
    "    def __init__(self, name):\n",
    "        self.name = name\n",
    "        \n",
    "    def greet(self):\n",
    "        return 'hello, {}!'.format(self.name)\n",
    "    \n",
    "@Mutable.register_tracked_type(MyClass)\n",
    "class MutableMyClass(MyClass, Mutable):\n",
    "    def __init__(self, source=None, root=None):\n",
    "        '''\n",
    "        Parameters\n",
    "        ----------\n",
    "        source : MyClass\n",
    "            Original instance of `MyClass`. This will be converted into a `MutableMyClass` object.\n",
    "            \n",
    "        root : Mutable or None, default=None\n",
    "            Root mutable object. This is handled by SQLAlchemy-Mutable. Set to `None` by default.\n",
    "        '''\n",
    "        super().__init__(name=source.name)\n",
    "        \n",
    "model = MyModel()\n",
    "session.add(model)\n",
    "model.mutable = Mutable()\n",
    "model.mutable.object = MyClass('world')\n",
    "session.commit()\n",
    "model.mutable.object.name = 'moon'\n",
    "session.commit()\n",
    "model.mutable.object.greet()"
   ]
  },
  {
   "cell_type": "code",
   "execution_count": null,
   "metadata": {},
   "outputs": [],
   "source": []
  }
 ],
 "metadata": {
  "kernelspec": {
   "display_name": "Python 3",
   "language": "python",
   "name": "python3"
  },
  "language_info": {
   "codemirror_mode": {
    "name": "ipython",
    "version": 3
   },
   "file_extension": ".py",
   "mimetype": "text/x-python",
   "name": "python",
   "nbconvert_exporter": "python",
   "pygments_lexer": "ipython3",
   "version": "3.6.8"
  },
  "toc": {
   "base_numbering": 1,
   "nav_menu": {},
   "number_sections": true,
   "sideBar": true,
   "skip_h1_title": false,
   "title_cell": "Table of Contents",
   "title_sidebar": "Contents",
   "toc_cell": false,
   "toc_position": {},
   "toc_section_display": true,
   "toc_window_display": false
  },
  "varInspector": {
   "cols": {
    "lenName": 16,
    "lenType": 16,
    "lenVar": 40
   },
   "kernels_config": {
    "python": {
     "delete_cmd_postfix": "",
     "delete_cmd_prefix": "del ",
     "library": "var_list.py",
     "varRefreshCmd": "print(var_dic_list())"
    },
    "r": {
     "delete_cmd_postfix": ") ",
     "delete_cmd_prefix": "rm(",
     "library": "var_list.r",
     "varRefreshCmd": "cat(var_dic_list()) "
    }
   },
   "types_to_exclude": [
    "module",
    "function",
    "builtin_function_or_method",
    "instance",
    "_Feature"
   ],
   "window_display": false
  }
 },
 "nbformat": 4,
 "nbformat_minor": 4
}
